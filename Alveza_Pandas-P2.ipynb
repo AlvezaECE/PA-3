{
 "cells": [
  {
   "cell_type": "code",
   "execution_count": 1,
   "id": "7b94875f-d944-4ff7-81b4-b8adf55a6901",
   "metadata": {},
   "outputs": [],
   "source": [
    "# Import pandas\n",
    "import pandas as pd"
   ]
  },
  {
   "cell_type": "code",
   "execution_count": 5,
   "id": "8e4ad794-5954-46fa-bd1f-0c2f92f9cdeb",
   "metadata": {},
   "outputs": [],
   "source": [
    "# Load the file into pandas dataframe\n",
    "url = \"https://bit.ly/Cars_file\"\n",
    "cars = pd.read_csv(url)"
   ]
  },
  {
   "cell_type": "markdown",
   "id": "89e903ae-a4c9-4a50-8dda-d88d318b9bc5",
   "metadata": {},
   "source": [
    "# Part A"
   ]
  },
  {
   "cell_type": "code",
   "execution_count": 20,
   "id": "588fa4c6-8fc0-461c-932d-1d69d3f280f2",
   "metadata": {},
   "outputs": [
    {
     "name": "stdout",
     "output_type": "stream",
     "text": [
      "First five rows of odd-numbered columns:\n",
      "               Model  cyl   hp     wt  vs  gear\n",
      "0          Mazda RX4    6  110  2.620   0     4\n",
      "1      Mazda RX4 Wag    6  110  2.875   0     4\n",
      "2         Datsun 710    4   93  2.320   1     4\n",
      "3     Hornet 4 Drive    6  110  3.215   1     3\n",
      "4  Hornet Sportabout    8  175  3.440   0     3\n"
     ]
    }
   ],
   "source": [
    "# Prints the output of the first five rows of the dataset with their odd-numbered columns (1, 3, 5, 7...)\n",
    "print(\"First five rows of odd-numbered columns:\")\n",
    "print(cars.iloc[:5, 0::2])"
   ]
  },
  {
   "cell_type": "markdown",
   "id": "94169c10-a277-4a88-ad16-28cfd944db60",
   "metadata": {},
   "source": [
    "# Part B"
   ]
  },
  {
   "cell_type": "code",
   "execution_count": 26,
   "id": "33dcadee-dc29-40d8-81d9-2a560536c8b9",
   "metadata": {},
   "outputs": [
    {
     "name": "stdout",
     "output_type": "stream",
     "text": [
      "\n",
      "Row containing the 'Mazda RX4':\n",
      "       Model   mpg  cyl   disp   hp  drat    wt   qsec  vs  am  gear  carb\n",
      "0  Mazda RX4  21.0    6  160.0  110   3.9  2.62  16.46   0   1     4     4\n"
     ]
    }
   ],
   "source": [
    "# Prints the row that contains the Model of Mazda RX4\n",
    "mazda_rx4 = cars[cars['Model'] == 'Mazda RX4']\n",
    "print(\"\\nRow containing the 'Mazda RX4':\")\n",
    "print(mazda_rx4)"
   ]
  },
  {
   "cell_type": "markdown",
   "id": "3a080f4f-fddd-4b47-ba0f-ceccfe69385b",
   "metadata": {},
   "source": [
    "# Part C"
   ]
  },
  {
   "cell_type": "code",
   "execution_count": 28,
   "id": "c1344eb0-dffe-4a97-af2a-5dd55f0c9551",
   "metadata": {},
   "outputs": [
    {
     "name": "stdout",
     "output_type": "stream",
     "text": [
      "\n",
      "Cylinders in 'Camaro Z28': 8\n"
     ]
    }
   ],
   "source": [
    "# Prints the number of cylinders of Camaro Z28\n",
    "camaro_cyl = cars.loc[cars['Model'] == 'Camaro Z28', 'cyl'].values[0]\n",
    "print(\"\\nCylinders in 'Camaro Z28':\", camaro_cyl)"
   ]
  },
  {
   "cell_type": "markdown",
   "id": "d279ceca-86b9-4c4f-8a91-5d673b2a2302",
   "metadata": {},
   "source": [
    "# Part D"
   ]
  },
  {
   "cell_type": "code",
   "execution_count": 30,
   "id": "f5ff3345-62da-4716-8164-a6ef4f7b9c33",
   "metadata": {},
   "outputs": [
    {
     "name": "stdout",
     "output_type": "stream",
     "text": [
      "\n",
      "Cylinders and gear type of 'Mazda RX4 Wag', 'Ford Pantera L', and 'Honda Civic':\n",
      "             Model  cyl  gear\n",
      "1    Mazda RX4 Wag    6     4\n",
      "18     Honda Civic    4     4\n",
      "28  Ford Pantera L    8     5\n"
     ]
    }
   ],
   "source": [
    "# PART D: Determine how many cylinders ('cyl') and what gear type ('gear') do the car models \n",
    "# 'Mazda RX4 Wag', 'Ford Pantera L', and 'Honda Civic' have.\n",
    "specific_models = ['Mazda RX4 Wag', 'Ford Pantera L', 'Honda Civic']\n",
    "model_details = cars[cars['Model'].isin(specific_models)][['Model', 'cyl', 'gear']]\n",
    "print(\"\\nCylinders and gear type of 'Mazda RX4 Wag', 'Ford Pantera L', and 'Honda Civic':\")\n",
    "print(model_details)"
   ]
  }
 ],
 "metadata": {
  "kernelspec": {
   "display_name": "Python 3 (ipykernel)",
   "language": "python",
   "name": "python3"
  },
  "language_info": {
   "codemirror_mode": {
    "name": "ipython",
    "version": 3
   },
   "file_extension": ".py",
   "mimetype": "text/x-python",
   "name": "python",
   "nbconvert_exporter": "python",
   "pygments_lexer": "ipython3",
   "version": "3.12.4"
  }
 },
 "nbformat": 4,
 "nbformat_minor": 5
}
